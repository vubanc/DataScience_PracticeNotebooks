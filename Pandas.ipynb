{
 "cells": [
  {
   "cell_type": "markdown",
   "id": "87566c01",
   "metadata": {},
   "source": [
    "# Pandas"
   ]
  },
  {
   "cell_type": "markdown",
   "id": "8fa5a325",
   "metadata": {},
   "source": [
    "In this notebook, we explore the different pandas functions that are used for data wrangling. The functions have been divided into different code blocks based on their purpose. "
   ]
  },
  {
   "cell_type": "markdown",
   "id": "b1b85ffd",
   "metadata": {},
   "source": [
    "First let us import a dummy dataset for implementing the operations using the read_csv function."
   ]
  },
  {
   "cell_type": "code",
   "execution_count": 82,
   "id": "d51cc862",
   "metadata": {},
   "outputs": [],
   "source": [
    "import pandas as pd\n",
    "df = pd.read_csv(\"data/Bank Customer Churn Prediction.csv\")"
   ]
  },
  {
   "cell_type": "code",
   "execution_count": 83,
   "id": "2c80211d",
   "metadata": {},
   "outputs": [
    {
     "data": {
      "text/html": [
       "<div>\n",
       "<style scoped>\n",
       "    .dataframe tbody tr th:only-of-type {\n",
       "        vertical-align: middle;\n",
       "    }\n",
       "\n",
       "    .dataframe tbody tr th {\n",
       "        vertical-align: top;\n",
       "    }\n",
       "\n",
       "    .dataframe thead th {\n",
       "        text-align: right;\n",
       "    }\n",
       "</style>\n",
       "<table border=\"1\" class=\"dataframe\">\n",
       "  <thead>\n",
       "    <tr style=\"text-align: right;\">\n",
       "      <th></th>\n",
       "      <th>customer_id</th>\n",
       "      <th>credit_score</th>\n",
       "      <th>country</th>\n",
       "      <th>gender</th>\n",
       "      <th>age</th>\n",
       "      <th>tenure</th>\n",
       "      <th>balance</th>\n",
       "      <th>products_number</th>\n",
       "      <th>credit_card</th>\n",
       "      <th>active_member</th>\n",
       "      <th>estimated_salary</th>\n",
       "      <th>churn</th>\n",
       "    </tr>\n",
       "  </thead>\n",
       "  <tbody>\n",
       "    <tr>\n",
       "      <th>0</th>\n",
       "      <td>15634602</td>\n",
       "      <td>619</td>\n",
       "      <td>France</td>\n",
       "      <td>Female</td>\n",
       "      <td>42</td>\n",
       "      <td>2</td>\n",
       "      <td>0.00</td>\n",
       "      <td>1</td>\n",
       "      <td>1</td>\n",
       "      <td>1</td>\n",
       "      <td>101348.88</td>\n",
       "      <td>1</td>\n",
       "    </tr>\n",
       "    <tr>\n",
       "      <th>1</th>\n",
       "      <td>15647311</td>\n",
       "      <td>608</td>\n",
       "      <td>Spain</td>\n",
       "      <td>Female</td>\n",
       "      <td>41</td>\n",
       "      <td>1</td>\n",
       "      <td>83807.86</td>\n",
       "      <td>1</td>\n",
       "      <td>0</td>\n",
       "      <td>1</td>\n",
       "      <td>112542.58</td>\n",
       "      <td>0</td>\n",
       "    </tr>\n",
       "    <tr>\n",
       "      <th>2</th>\n",
       "      <td>15619304</td>\n",
       "      <td>502</td>\n",
       "      <td>France</td>\n",
       "      <td>Female</td>\n",
       "      <td>42</td>\n",
       "      <td>8</td>\n",
       "      <td>159660.80</td>\n",
       "      <td>3</td>\n",
       "      <td>1</td>\n",
       "      <td>0</td>\n",
       "      <td>113931.57</td>\n",
       "      <td>1</td>\n",
       "    </tr>\n",
       "    <tr>\n",
       "      <th>3</th>\n",
       "      <td>15701354</td>\n",
       "      <td>699</td>\n",
       "      <td>France</td>\n",
       "      <td>Female</td>\n",
       "      <td>39</td>\n",
       "      <td>1</td>\n",
       "      <td>0.00</td>\n",
       "      <td>2</td>\n",
       "      <td>0</td>\n",
       "      <td>0</td>\n",
       "      <td>93826.63</td>\n",
       "      <td>0</td>\n",
       "    </tr>\n",
       "    <tr>\n",
       "      <th>4</th>\n",
       "      <td>15737888</td>\n",
       "      <td>850</td>\n",
       "      <td>Spain</td>\n",
       "      <td>Female</td>\n",
       "      <td>43</td>\n",
       "      <td>2</td>\n",
       "      <td>125510.82</td>\n",
       "      <td>1</td>\n",
       "      <td>1</td>\n",
       "      <td>1</td>\n",
       "      <td>79084.10</td>\n",
       "      <td>0</td>\n",
       "    </tr>\n",
       "  </tbody>\n",
       "</table>\n",
       "</div>"
      ],
      "text/plain": [
       "   customer_id  credit_score country  gender  age  tenure    balance  \\\n",
       "0     15634602           619  France  Female   42       2       0.00   \n",
       "1     15647311           608   Spain  Female   41       1   83807.86   \n",
       "2     15619304           502  France  Female   42       8  159660.80   \n",
       "3     15701354           699  France  Female   39       1       0.00   \n",
       "4     15737888           850   Spain  Female   43       2  125510.82   \n",
       "\n",
       "   products_number  credit_card  active_member  estimated_salary  churn  \n",
       "0                1            1              1         101348.88      1  \n",
       "1                1            0              1         112542.58      0  \n",
       "2                3            1              0         113931.57      1  \n",
       "3                2            0              0          93826.63      0  \n",
       "4                1            1              1          79084.10      0  "
      ]
     },
     "execution_count": 83,
     "metadata": {},
     "output_type": "execute_result"
    }
   ],
   "source": [
    "df.head()"
   ]
  },
  {
   "cell_type": "markdown",
   "id": "a8d39761",
   "metadata": {},
   "source": [
    "## Summarizing data"
   ]
  },
  {
   "cell_type": "markdown",
   "id": "d1291916",
   "metadata": {},
   "source": [
    "By default, pandas summarizing functions apply the operations to individual columns."
   ]
  },
  {
   "cell_type": "markdown",
   "id": "3e101a6d",
   "metadata": {},
   "source": [
    "Counting non-null values in the dataframe for each column"
   ]
  },
  {
   "cell_type": "code",
   "execution_count": 84,
   "id": "63280a7e",
   "metadata": {},
   "outputs": [
    {
     "data": {
      "text/plain": [
       "customer_id         10000\n",
       "credit_score        10000\n",
       "country             10000\n",
       "gender              10000\n",
       "age                 10000\n",
       "tenure              10000\n",
       "balance             10000\n",
       "products_number     10000\n",
       "credit_card         10000\n",
       "active_member       10000\n",
       "estimated_salary    10000\n",
       "churn               10000\n",
       "dtype: int64"
      ]
     },
     "execution_count": 84,
     "metadata": {},
     "output_type": "execute_result"
    }
   ],
   "source": [
    "df.count()"
   ]
  },
  {
   "cell_type": "markdown",
   "id": "22954691",
   "metadata": {},
   "source": [
    "Calculating the mean for specific columns"
   ]
  },
  {
   "cell_type": "code",
   "execution_count": 85,
   "id": "51dec2c4",
   "metadata": {},
   "outputs": [
    {
     "data": {
      "text/plain": [
       "credit_score    650.5288\n",
       "tenure            5.0128\n",
       "dtype: float64"
      ]
     },
     "execution_count": 85,
     "metadata": {},
     "output_type": "execute_result"
    }
   ],
   "source": [
    "df[[\"credit_score\", \"tenure\"]].mean()"
   ]
  },
  {
   "cell_type": "markdown",
   "id": "a4260e88",
   "metadata": {},
   "source": [
    "## Grouping Data and Aggregation Functions"
   ]
  },
  {
   "cell_type": "markdown",
   "id": "2a7ec8b0",
   "metadata": {},
   "source": [
    "Using the groupby function in pandas returns a groupby object on which we can perform different types of aggregation operations using aggregation functions."
   ]
  },
  {
   "cell_type": "markdown",
   "id": "8b8981f9",
   "metadata": {},
   "source": [
    "### size()"
   ]
  },
  {
   "cell_type": "markdown",
   "id": "e440cc41",
   "metadata": {},
   "source": [
    "For example, we can check the size of each group once we group the dataset by gender and apply the size() aggregation function."
   ]
  },
  {
   "cell_type": "code",
   "execution_count": 86,
   "id": "c59dd025",
   "metadata": {},
   "outputs": [
    {
     "data": {
      "text/plain": [
       "gender\n",
       "Female    4543\n",
       "Male      5457\n",
       "dtype: int64"
      ]
     },
     "execution_count": 86,
     "metadata": {},
     "output_type": "execute_result"
    }
   ],
   "source": [
    "df.groupby(by=\"gender\").size()"
   ]
  },
  {
   "cell_type": "markdown",
   "id": "f0e40e76",
   "metadata": {},
   "source": [
    "### agg()"
   ]
  },
  {
   "cell_type": "markdown",
   "id": "df64358a",
   "metadata": {},
   "source": [
    "We can also apply more than one aggregation functions using the **.agg()** at the end of groupby. In this case, we specify a list of string as the argument **\"func\"** for the agg function, where each string in the list is the name of an aggregation funciton in pandas."
   ]
  },
  {
   "cell_type": "code",
   "execution_count": 87,
   "id": "39e29ddc",
   "metadata": {},
   "outputs": [
    {
     "data": {
      "text/html": [
       "<div>\n",
       "<style scoped>\n",
       "    .dataframe tbody tr th:only-of-type {\n",
       "        vertical-align: middle;\n",
       "    }\n",
       "\n",
       "    .dataframe tbody tr th {\n",
       "        vertical-align: top;\n",
       "    }\n",
       "\n",
       "    .dataframe thead th {\n",
       "        text-align: right;\n",
       "    }\n",
       "</style>\n",
       "<table border=\"1\" class=\"dataframe\">\n",
       "  <thead>\n",
       "    <tr style=\"text-align: right;\">\n",
       "      <th></th>\n",
       "      <th>sum</th>\n",
       "      <th>mean</th>\n",
       "    </tr>\n",
       "    <tr>\n",
       "      <th>gender</th>\n",
       "      <th></th>\n",
       "      <th></th>\n",
       "    </tr>\n",
       "  </thead>\n",
       "  <tbody>\n",
       "    <tr>\n",
       "      <th>Female</th>\n",
       "      <td>178260</td>\n",
       "      <td>39.238389</td>\n",
       "    </tr>\n",
       "    <tr>\n",
       "      <th>Male</th>\n",
       "      <td>210958</td>\n",
       "      <td>38.658237</td>\n",
       "    </tr>\n",
       "  </tbody>\n",
       "</table>\n",
       "</div>"
      ],
      "text/plain": [
       "           sum       mean\n",
       "gender                   \n",
       "Female  178260  39.238389\n",
       "Male    210958  38.658237"
      ]
     },
     "execution_count": 87,
     "metadata": {},
     "output_type": "execute_result"
    }
   ],
   "source": [
    "df.groupby(by=\"gender\")[\"age\"].agg(func=[\"sum\", \"mean\"])"
   ]
  },
  {
   "cell_type": "markdown",
   "id": "da8211d5",
   "metadata": {},
   "source": [
    "### rank() "
   ]
  },
  {
   "cell_type": "markdown",
   "id": "7a7e49c5",
   "metadata": {},
   "source": [
    "Applying the rank aggregate function (with groupby) on a dataframe returns a dataframe with one column, which contains the rankings within each group. The ranking is done based on the values of the specified column (specified after the **groupby()** function). \n",
    "\n",
    "There are five methods that can be specified to hadle ties in the rank function. If two rows are tied at the same value and the previous row's rank was 2, then the next row will get a rank in one of the five following methods:\n",
    "\n",
    "- **method = \"average\":** The average of ranks 3 & 4 or 3.5 will be assigned. Next row gets 5. **(Default Method)**\n",
    "- **method = \"min\":** The minimum of 3 & 4 or 3 will be assigned. Next row gets 5.\n",
    "- **method = \"max\":** The minimum of 3 & 4 or 4 will be assigned. Next row gets 5.\n",
    "- **method = \"dense\":** Both rows get 3 and the next row gets 4.\n",
    "- **method = \"first\":** The first row encountered gets 3 and the second row encountered gets 4."
   ]
  },
  {
   "cell_type": "code",
   "execution_count": 79,
   "id": "b191357d",
   "metadata": {},
   "outputs": [
    {
     "data": {
      "text/html": [
       "<div>\n",
       "<style scoped>\n",
       "    .dataframe tbody tr th:only-of-type {\n",
       "        vertical-align: middle;\n",
       "    }\n",
       "\n",
       "    .dataframe tbody tr th {\n",
       "        vertical-align: top;\n",
       "    }\n",
       "\n",
       "    .dataframe thead th {\n",
       "        text-align: right;\n",
       "    }\n",
       "</style>\n",
       "<table border=\"1\" class=\"dataframe\">\n",
       "  <thead>\n",
       "    <tr style=\"text-align: right;\">\n",
       "      <th></th>\n",
       "      <th>group</th>\n",
       "      <th>value</th>\n",
       "      <th>average_rank</th>\n",
       "      <th>min_rank</th>\n",
       "      <th>max_rank</th>\n",
       "      <th>dense_rank</th>\n",
       "      <th>first_rank</th>\n",
       "    </tr>\n",
       "  </thead>\n",
       "  <tbody>\n",
       "    <tr>\n",
       "      <th>0</th>\n",
       "      <td>a</td>\n",
       "      <td>2</td>\n",
       "      <td>1.5</td>\n",
       "      <td>1.0</td>\n",
       "      <td>2.0</td>\n",
       "      <td>1.0</td>\n",
       "      <td>1.0</td>\n",
       "    </tr>\n",
       "    <tr>\n",
       "      <th>1</th>\n",
       "      <td>a</td>\n",
       "      <td>4</td>\n",
       "      <td>4.0</td>\n",
       "      <td>4.0</td>\n",
       "      <td>4.0</td>\n",
       "      <td>3.0</td>\n",
       "      <td>4.0</td>\n",
       "    </tr>\n",
       "    <tr>\n",
       "      <th>2</th>\n",
       "      <td>a</td>\n",
       "      <td>2</td>\n",
       "      <td>1.5</td>\n",
       "      <td>1.0</td>\n",
       "      <td>2.0</td>\n",
       "      <td>1.0</td>\n",
       "      <td>2.0</td>\n",
       "    </tr>\n",
       "    <tr>\n",
       "      <th>3</th>\n",
       "      <td>a</td>\n",
       "      <td>3</td>\n",
       "      <td>3.0</td>\n",
       "      <td>3.0</td>\n",
       "      <td>3.0</td>\n",
       "      <td>2.0</td>\n",
       "      <td>3.0</td>\n",
       "    </tr>\n",
       "    <tr>\n",
       "      <th>4</th>\n",
       "      <td>a</td>\n",
       "      <td>5</td>\n",
       "      <td>5.0</td>\n",
       "      <td>5.0</td>\n",
       "      <td>5.0</td>\n",
       "      <td>4.0</td>\n",
       "      <td>5.0</td>\n",
       "    </tr>\n",
       "  </tbody>\n",
       "</table>\n",
       "</div>"
      ],
      "text/plain": [
       "  group  value  average_rank  min_rank  max_rank  dense_rank  first_rank\n",
       "0     a      2           1.5       1.0       2.0         1.0         1.0\n",
       "1     a      4           4.0       4.0       4.0         3.0         4.0\n",
       "2     a      2           1.5       1.0       2.0         1.0         2.0\n",
       "3     a      3           3.0       3.0       3.0         2.0         3.0\n",
       "4     a      5           5.0       5.0       5.0         4.0         5.0"
      ]
     },
     "execution_count": 79,
     "metadata": {},
     "output_type": "execute_result"
    }
   ],
   "source": [
    "df = pd.DataFrame({\"group\": [\"a\", \"a\", \"a\", \"a\", \"a\", \"b\", \"b\", \"b\", \"b\", \"b\"], \"value\": [2, 4, 2, 3, 5, 1, 2, 4, 1, 5]})\n",
    "\n",
    "for method in ['average', 'min', 'max', 'dense', 'first']:\n",
    "    df[f'{method}_rank'] = df.groupby('group')['value'].rank(method)\n",
    "df.head()"
   ]
  },
  {
   "cell_type": "markdown",
   "id": "c3584d03",
   "metadata": {},
   "source": [
    "### cummax() and cummin()"
   ]
  },
  {
   "cell_type": "markdown",
   "id": "74efdf59",
   "metadata": {},
   "source": [
    "In general the cummax or the cummin function calculated the cumulative max or cumulative minimum along a column. We can think of this operation as proceeding down a column and recording the maximum or minimum value recorded so far. \n",
    "\n",
    "When applied with aggregation with groupby, it does the same thing, but separately for two groups. Let us consider the following example:"
   ]
  },
  {
   "cell_type": "code",
   "execution_count": 67,
   "id": "80254e9c",
   "metadata": {},
   "outputs": [
    {
     "data": {
      "text/html": [
       "<div>\n",
       "<style scoped>\n",
       "    .dataframe tbody tr th:only-of-type {\n",
       "        vertical-align: middle;\n",
       "    }\n",
       "\n",
       "    .dataframe tbody tr th {\n",
       "        vertical-align: top;\n",
       "    }\n",
       "\n",
       "    .dataframe thead th {\n",
       "        text-align: right;\n",
       "    }\n",
       "</style>\n",
       "<table border=\"1\" class=\"dataframe\">\n",
       "  <thead>\n",
       "    <tr style=\"text-align: right;\">\n",
       "      <th></th>\n",
       "      <th>Group</th>\n",
       "      <th>Value</th>\n",
       "      <th>Cumulative Max</th>\n",
       "      <th>Cumulative Min</th>\n",
       "    </tr>\n",
       "  </thead>\n",
       "  <tbody>\n",
       "    <tr>\n",
       "      <th>0</th>\n",
       "      <td>A</td>\n",
       "      <td>4</td>\n",
       "      <td>4</td>\n",
       "      <td>4</td>\n",
       "    </tr>\n",
       "    <tr>\n",
       "      <th>1</th>\n",
       "      <td>A</td>\n",
       "      <td>2</td>\n",
       "      <td>4</td>\n",
       "      <td>2</td>\n",
       "    </tr>\n",
       "    <tr>\n",
       "      <th>2</th>\n",
       "      <td>A</td>\n",
       "      <td>6</td>\n",
       "      <td>6</td>\n",
       "      <td>2</td>\n",
       "    </tr>\n",
       "    <tr>\n",
       "      <th>3</th>\n",
       "      <td>B</td>\n",
       "      <td>3</td>\n",
       "      <td>3</td>\n",
       "      <td>3</td>\n",
       "    </tr>\n",
       "    <tr>\n",
       "      <th>4</th>\n",
       "      <td>B</td>\n",
       "      <td>8</td>\n",
       "      <td>8</td>\n",
       "      <td>3</td>\n",
       "    </tr>\n",
       "    <tr>\n",
       "      <th>5</th>\n",
       "      <td>B</td>\n",
       "      <td>1</td>\n",
       "      <td>8</td>\n",
       "      <td>1</td>\n",
       "    </tr>\n",
       "    <tr>\n",
       "      <th>6</th>\n",
       "      <td>B</td>\n",
       "      <td>5</td>\n",
       "      <td>8</td>\n",
       "      <td>1</td>\n",
       "    </tr>\n",
       "  </tbody>\n",
       "</table>\n",
       "</div>"
      ],
      "text/plain": [
       "  Group  Value  Cumulative Max  Cumulative Min\n",
       "0     A      4               4               4\n",
       "1     A      2               4               2\n",
       "2     A      6               6               2\n",
       "3     B      3               3               3\n",
       "4     B      8               8               3\n",
       "5     B      1               8               1\n",
       "6     B      5               8               1"
      ]
     },
     "execution_count": 67,
     "metadata": {},
     "output_type": "execute_result"
    }
   ],
   "source": [
    "# Create a sample DataFrame\n",
    "data = {'Group': ['A', 'A', 'A', 'B', 'B', 'B', 'B'],\n",
    "        'Value': [4, 2, 6, 3, 8, 1, 5]}\n",
    "df = pd.DataFrame(data)\n",
    "\n",
    "# Apply cummax function with groupby\n",
    "df['Cumulative Max'] = df.groupby('Group')['Value'].cummax()\n",
    "df['Cumulative Min'] = df.groupby('Group')['Value'].cummin()\n",
    "\n",
    "df"
   ]
  }
 ],
 "metadata": {
  "kernelspec": {
   "display_name": "Python 3 (ipykernel)",
   "language": "python",
   "name": "python3"
  },
  "language_info": {
   "codemirror_mode": {
    "name": "ipython",
    "version": 3
   },
   "file_extension": ".py",
   "mimetype": "text/x-python",
   "name": "python",
   "nbconvert_exporter": "python",
   "pygments_lexer": "ipython3",
   "version": "3.10.9"
  }
 },
 "nbformat": 4,
 "nbformat_minor": 5
}
