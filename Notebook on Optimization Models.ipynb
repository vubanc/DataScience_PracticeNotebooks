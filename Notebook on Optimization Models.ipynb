{
 "cells": [
  {
   "cell_type": "markdown",
   "id": "228396b6",
   "metadata": {},
   "source": [
    "# Optimization Models"
   ]
  },
  {
   "cell_type": "markdown",
   "id": "22b49ae4",
   "metadata": {},
   "source": [
    "**In this notebook, we explore a linear programming problem using the pulp libeary in python.**\n",
    "\n",
    "The problem requires us to minimize cost by: \n",
    "- Selecting the optimum size and location for opening plants. \n",
    "- Selecting the optimum number of units to supply to each of the the markets.\n",
    "\n",
    "While making sure that:\n",
    "- The capacity of plants at each of the locations are not exceeded.\n",
    "- The demand for each of the markets are fulfilled."
   ]
  },
  {
   "cell_type": "markdown",
   "id": "60c42668",
   "metadata": {},
   "source": [
    "## Imporitng Libraries and Datasets "
   ]
  },
  {
   "cell_type": "code",
   "execution_count": 1,
   "id": "fdf0a6d8",
   "metadata": {},
   "outputs": [],
   "source": [
    "from pulp import *\n",
    "import pandas as pd\n",
    "import numpy as np"
   ]
  },
  {
   "cell_type": "code",
   "execution_count": 2,
   "id": "879c347a",
   "metadata": {},
   "outputs": [
    {
     "data": {
      "text/html": [
       "<div>\n",
       "<style scoped>\n",
       "    .dataframe tbody tr th:only-of-type {\n",
       "        vertical-align: middle;\n",
       "    }\n",
       "\n",
       "    .dataframe tbody tr th {\n",
       "        vertical-align: top;\n",
       "    }\n",
       "\n",
       "    .dataframe thead th {\n",
       "        text-align: right;\n",
       "    }\n",
       "</style>\n",
       "<table border=\"1\" class=\"dataframe\">\n",
       "  <thead>\n",
       "    <tr style=\"text-align: right;\">\n",
       "      <th></th>\n",
       "      <th>USA</th>\n",
       "      <th>GERMANY</th>\n",
       "      <th>JAPAN</th>\n",
       "      <th>BRAZIL</th>\n",
       "      <th>INDIA</th>\n",
       "    </tr>\n",
       "    <tr>\n",
       "      <th>Variable Costs ($/Unit)</th>\n",
       "      <th></th>\n",
       "      <th></th>\n",
       "      <th></th>\n",
       "      <th></th>\n",
       "      <th></th>\n",
       "    </tr>\n",
       "  </thead>\n",
       "  <tbody>\n",
       "    <tr>\n",
       "      <th>USA</th>\n",
       "      <td>12</td>\n",
       "      <td>12</td>\n",
       "      <td>12</td>\n",
       "      <td>12</td>\n",
       "      <td>12</td>\n",
       "    </tr>\n",
       "    <tr>\n",
       "      <th>GERMANY</th>\n",
       "      <td>13</td>\n",
       "      <td>13</td>\n",
       "      <td>13</td>\n",
       "      <td>13</td>\n",
       "      <td>13</td>\n",
       "    </tr>\n",
       "    <tr>\n",
       "      <th>JAPAN</th>\n",
       "      <td>10</td>\n",
       "      <td>10</td>\n",
       "      <td>10</td>\n",
       "      <td>10</td>\n",
       "      <td>10</td>\n",
       "    </tr>\n",
       "    <tr>\n",
       "      <th>BRAZIL</th>\n",
       "      <td>8</td>\n",
       "      <td>8</td>\n",
       "      <td>8</td>\n",
       "      <td>8</td>\n",
       "      <td>8</td>\n",
       "    </tr>\n",
       "    <tr>\n",
       "      <th>INDIA</th>\n",
       "      <td>5</td>\n",
       "      <td>5</td>\n",
       "      <td>5</td>\n",
       "      <td>5</td>\n",
       "      <td>5</td>\n",
       "    </tr>\n",
       "  </tbody>\n",
       "</table>\n",
       "</div>"
      ],
      "text/plain": [
       "                         USA  GERMANY  JAPAN  BRAZIL  INDIA\n",
       "Variable Costs ($/Unit)                                    \n",
       "USA                       12       12     12      12     12\n",
       "GERMANY                   13       13     13      13     13\n",
       "JAPAN                     10       10     10      10     10\n",
       "BRAZIL                     8        8      8       8      8\n",
       "INDIA                      5        5      5       5      5"
      ]
     },
     "execution_count": 2,
     "metadata": {},
     "output_type": "execute_result"
    }
   ],
   "source": [
    "#Manufacturing cost per unit\n",
    "man_costs = pd.read_excel(\"data/variable costs.xlsx\", index_col=0)\n",
    "man_costs"
   ]
  },
  {
   "cell_type": "code",
   "execution_count": 3,
   "id": "1f10186b",
   "metadata": {},
   "outputs": [
    {
     "data": {
      "text/html": [
       "<div>\n",
       "<style scoped>\n",
       "    .dataframe tbody tr th:only-of-type {\n",
       "        vertical-align: middle;\n",
       "    }\n",
       "\n",
       "    .dataframe tbody tr th {\n",
       "        vertical-align: top;\n",
       "    }\n",
       "\n",
       "    .dataframe thead th {\n",
       "        text-align: right;\n",
       "    }\n",
       "</style>\n",
       "<table border=\"1\" class=\"dataframe\">\n",
       "  <thead>\n",
       "    <tr style=\"text-align: right;\">\n",
       "      <th></th>\n",
       "      <th>USA</th>\n",
       "      <th>GERMANY</th>\n",
       "      <th>JAPAN</th>\n",
       "      <th>BRAZIL</th>\n",
       "      <th>INDIA</th>\n",
       "    </tr>\n",
       "    <tr>\n",
       "      <th>Freight Costs ($/Container)</th>\n",
       "      <th></th>\n",
       "      <th></th>\n",
       "      <th></th>\n",
       "      <th></th>\n",
       "      <th></th>\n",
       "    </tr>\n",
       "  </thead>\n",
       "  <tbody>\n",
       "    <tr>\n",
       "      <th>USA</th>\n",
       "      <td>0</td>\n",
       "      <td>1750</td>\n",
       "      <td>1100</td>\n",
       "      <td>2300</td>\n",
       "      <td>1254</td>\n",
       "    </tr>\n",
       "    <tr>\n",
       "      <th>GERMANY</th>\n",
       "      <td>1905</td>\n",
       "      <td>0</td>\n",
       "      <td>1231</td>\n",
       "      <td>2892</td>\n",
       "      <td>1439</td>\n",
       "    </tr>\n",
       "    <tr>\n",
       "      <th>JAPAN</th>\n",
       "      <td>2200</td>\n",
       "      <td>3250</td>\n",
       "      <td>0</td>\n",
       "      <td>6230</td>\n",
       "      <td>2050</td>\n",
       "    </tr>\n",
       "    <tr>\n",
       "      <th>BRAZIL</th>\n",
       "      <td>2350</td>\n",
       "      <td>3150</td>\n",
       "      <td>4000</td>\n",
       "      <td>0</td>\n",
       "      <td>4250</td>\n",
       "    </tr>\n",
       "    <tr>\n",
       "      <th>INDIA</th>\n",
       "      <td>1950</td>\n",
       "      <td>2200</td>\n",
       "      <td>3500</td>\n",
       "      <td>4200</td>\n",
       "      <td>0</td>\n",
       "    </tr>\n",
       "  </tbody>\n",
       "</table>\n",
       "</div>"
      ],
      "text/plain": [
       "                              USA  GERMANY  JAPAN  BRAZIL  INDIA\n",
       "Freight Costs ($/Container)                                     \n",
       "USA                             0     1750   1100    2300   1254\n",
       "GERMANY                      1905        0   1231    2892   1439\n",
       "JAPAN                        2200     3250      0    6230   2050\n",
       "BRAZIL                       2350     3150   4000       0   4250\n",
       "INDIA                        1950     2200   3500    4200      0"
      ]
     },
     "execution_count": 3,
     "metadata": {},
     "output_type": "execute_result"
    }
   ],
   "source": [
    "#Freight cost per unit\n",
    "freight_costs = pd.read_excel(\"data/freight costs.xlsx\", index_col=0)\n",
    "freight_costs = freight_costs\n",
    "freight_costs"
   ]
  },
  {
   "cell_type": "code",
   "execution_count": 4,
   "id": "b0a17133",
   "metadata": {},
   "outputs": [
    {
     "data": {
      "text/html": [
       "<div>\n",
       "<style scoped>\n",
       "    .dataframe tbody tr th:only-of-type {\n",
       "        vertical-align: middle;\n",
       "    }\n",
       "\n",
       "    .dataframe tbody tr th {\n",
       "        vertical-align: top;\n",
       "    }\n",
       "\n",
       "    .dataframe thead th {\n",
       "        text-align: right;\n",
       "    }\n",
       "</style>\n",
       "<table border=\"1\" class=\"dataframe\">\n",
       "  <thead>\n",
       "    <tr style=\"text-align: right;\">\n",
       "      <th></th>\n",
       "      <th>USA</th>\n",
       "      <th>GERMANY</th>\n",
       "      <th>JAPAN</th>\n",
       "      <th>BRAZIL</th>\n",
       "      <th>INDIA</th>\n",
       "    </tr>\n",
       "    <tr>\n",
       "      <th>Variable Costs ($/Unit)</th>\n",
       "      <th></th>\n",
       "      <th></th>\n",
       "      <th></th>\n",
       "      <th></th>\n",
       "      <th></th>\n",
       "    </tr>\n",
       "  </thead>\n",
       "  <tbody>\n",
       "    <tr>\n",
       "      <th>USA</th>\n",
       "      <td>12.000</td>\n",
       "      <td>13.75</td>\n",
       "      <td>13.100</td>\n",
       "      <td>14.300</td>\n",
       "      <td>13.254</td>\n",
       "    </tr>\n",
       "    <tr>\n",
       "      <th>GERMANY</th>\n",
       "      <td>14.905</td>\n",
       "      <td>13.00</td>\n",
       "      <td>14.231</td>\n",
       "      <td>15.892</td>\n",
       "      <td>14.439</td>\n",
       "    </tr>\n",
       "    <tr>\n",
       "      <th>JAPAN</th>\n",
       "      <td>12.200</td>\n",
       "      <td>13.25</td>\n",
       "      <td>10.000</td>\n",
       "      <td>16.230</td>\n",
       "      <td>12.050</td>\n",
       "    </tr>\n",
       "    <tr>\n",
       "      <th>BRAZIL</th>\n",
       "      <td>10.350</td>\n",
       "      <td>11.15</td>\n",
       "      <td>12.000</td>\n",
       "      <td>8.000</td>\n",
       "      <td>12.250</td>\n",
       "    </tr>\n",
       "    <tr>\n",
       "      <th>INDIA</th>\n",
       "      <td>6.950</td>\n",
       "      <td>7.20</td>\n",
       "      <td>8.500</td>\n",
       "      <td>9.200</td>\n",
       "      <td>5.000</td>\n",
       "    </tr>\n",
       "  </tbody>\n",
       "</table>\n",
       "</div>"
      ],
      "text/plain": [
       "                            USA  GERMANY   JAPAN  BRAZIL   INDIA\n",
       "Variable Costs ($/Unit)                                         \n",
       "USA                      12.000    13.75  13.100  14.300  13.254\n",
       "GERMANY                  14.905    13.00  14.231  15.892  14.439\n",
       "JAPAN                    12.200    13.25  10.000  16.230  12.050\n",
       "BRAZIL                   10.350    11.15  12.000   8.000  12.250\n",
       "INDIA                     6.950     7.20   8.500   9.200   5.000"
      ]
     },
     "execution_count": 4,
     "metadata": {},
     "output_type": "execute_result"
    }
   ],
   "source": [
    "#Total variable cost per unit\n",
    "var_costs = man_costs+freight_costs/1000\n",
    "var_costs"
   ]
  },
  {
   "cell_type": "code",
   "execution_count": 10,
   "id": "08498801",
   "metadata": {},
   "outputs": [
    {
     "data": {
      "text/html": [
       "<div>\n",
       "<style scoped>\n",
       "    .dataframe tbody tr th:only-of-type {\n",
       "        vertical-align: middle;\n",
       "    }\n",
       "\n",
       "    .dataframe tbody tr th {\n",
       "        vertical-align: top;\n",
       "    }\n",
       "\n",
       "    .dataframe thead th {\n",
       "        text-align: right;\n",
       "    }\n",
       "</style>\n",
       "<table border=\"1\" class=\"dataframe\">\n",
       "  <thead>\n",
       "    <tr style=\"text-align: right;\">\n",
       "      <th></th>\n",
       "      <th>LOW</th>\n",
       "      <th>HIGH</th>\n",
       "    </tr>\n",
       "  </thead>\n",
       "  <tbody>\n",
       "    <tr>\n",
       "      <th>USA</th>\n",
       "      <td>6500</td>\n",
       "      <td>9500</td>\n",
       "    </tr>\n",
       "    <tr>\n",
       "      <th>GERMANY</th>\n",
       "      <td>4980</td>\n",
       "      <td>7270</td>\n",
       "    </tr>\n",
       "    <tr>\n",
       "      <th>JAPAN</th>\n",
       "      <td>6230</td>\n",
       "      <td>9100</td>\n",
       "    </tr>\n",
       "    <tr>\n",
       "      <th>BRAZIL</th>\n",
       "      <td>3230</td>\n",
       "      <td>4730</td>\n",
       "    </tr>\n",
       "    <tr>\n",
       "      <th>INDIA</th>\n",
       "      <td>2110</td>\n",
       "      <td>6160</td>\n",
       "    </tr>\n",
       "  </tbody>\n",
       "</table>\n",
       "</div>"
      ],
      "text/plain": [
       "          LOW  HIGH\n",
       "USA      6500  9500\n",
       "GERMANY  4980  7270\n",
       "JAPAN    6230  9100\n",
       "BRAZIL   3230  4730\n",
       "INDIA    2110  6160"
      ]
     },
     "execution_count": 10,
     "metadata": {},
     "output_type": "execute_result"
    }
   ],
   "source": [
    "#Total fixed cost per 1000 unit\n",
    "fixed_costs = pd.read_excel(\"data/fixed cost.xlsx\", index_col=0)\n",
    "fixed_costs"
   ]
  },
  {
   "cell_type": "code",
   "execution_count": 6,
   "id": "43a748de",
   "metadata": {},
   "outputs": [
    {
     "data": {
      "text/html": [
       "<div>\n",
       "<style scoped>\n",
       "    .dataframe tbody tr th:only-of-type {\n",
       "        vertical-align: middle;\n",
       "    }\n",
       "\n",
       "    .dataframe tbody tr th {\n",
       "        vertical-align: top;\n",
       "    }\n",
       "\n",
       "    .dataframe thead th {\n",
       "        text-align: right;\n",
       "    }\n",
       "</style>\n",
       "<table border=\"1\" class=\"dataframe\">\n",
       "  <thead>\n",
       "    <tr style=\"text-align: right;\">\n",
       "      <th></th>\n",
       "      <th>LOW</th>\n",
       "      <th>HIGH</th>\n",
       "    </tr>\n",
       "    <tr>\n",
       "      <th>Capacity (kUnits/month)</th>\n",
       "      <th></th>\n",
       "      <th></th>\n",
       "    </tr>\n",
       "  </thead>\n",
       "  <tbody>\n",
       "    <tr>\n",
       "      <th>USA</th>\n",
       "      <td>500</td>\n",
       "      <td>1500</td>\n",
       "    </tr>\n",
       "    <tr>\n",
       "      <th>GERMANY</th>\n",
       "      <td>500</td>\n",
       "      <td>1500</td>\n",
       "    </tr>\n",
       "    <tr>\n",
       "      <th>JAPAN</th>\n",
       "      <td>500</td>\n",
       "      <td>1500</td>\n",
       "    </tr>\n",
       "    <tr>\n",
       "      <th>BRAZIL</th>\n",
       "      <td>500</td>\n",
       "      <td>1500</td>\n",
       "    </tr>\n",
       "    <tr>\n",
       "      <th>INDIA</th>\n",
       "      <td>500</td>\n",
       "      <td>1500</td>\n",
       "    </tr>\n",
       "  </tbody>\n",
       "</table>\n",
       "</div>"
      ],
      "text/plain": [
       "                         LOW  HIGH\n",
       "Capacity (kUnits/month)           \n",
       "USA                      500  1500\n",
       "GERMANY                  500  1500\n",
       "JAPAN                    500  1500\n",
       "BRAZIL                   500  1500\n",
       "INDIA                    500  1500"
      ]
     },
     "execution_count": 6,
     "metadata": {},
     "output_type": "execute_result"
    }
   ],
   "source": [
    "#Plant capacities in 1000 units\n",
    "capacities = pd.read_excel(\"data/capacity.xlsx\", index_col=0)\n",
    "capacities"
   ]
  },
  {
   "cell_type": "code",
   "execution_count": 7,
   "id": "95091f10",
   "metadata": {},
   "outputs": [
    {
     "data": {
      "text/html": [
       "<div>\n",
       "<style scoped>\n",
       "    .dataframe tbody tr th:only-of-type {\n",
       "        vertical-align: middle;\n",
       "    }\n",
       "\n",
       "    .dataframe tbody tr th {\n",
       "        vertical-align: top;\n",
       "    }\n",
       "\n",
       "    .dataframe thead th {\n",
       "        text-align: right;\n",
       "    }\n",
       "</style>\n",
       "<table border=\"1\" class=\"dataframe\">\n",
       "  <thead>\n",
       "    <tr style=\"text-align: right;\">\n",
       "      <th></th>\n",
       "      <th>Demand</th>\n",
       "    </tr>\n",
       "    <tr>\n",
       "      <th>(Units/month)</th>\n",
       "      <th></th>\n",
       "    </tr>\n",
       "  </thead>\n",
       "  <tbody>\n",
       "    <tr>\n",
       "      <th>USA</th>\n",
       "      <td>2800000</td>\n",
       "    </tr>\n",
       "    <tr>\n",
       "      <th>GERMANY</th>\n",
       "      <td>90000</td>\n",
       "    </tr>\n",
       "    <tr>\n",
       "      <th>JAPAN</th>\n",
       "      <td>1700000</td>\n",
       "    </tr>\n",
       "    <tr>\n",
       "      <th>BRAZIL</th>\n",
       "      <td>145000</td>\n",
       "    </tr>\n",
       "    <tr>\n",
       "      <th>INDIA</th>\n",
       "      <td>160000</td>\n",
       "    </tr>\n",
       "  </tbody>\n",
       "</table>\n",
       "</div>"
      ],
      "text/plain": [
       "                Demand\n",
       "(Units/month)         \n",
       "USA            2800000\n",
       "GERMANY          90000\n",
       "JAPAN          1700000\n",
       "BRAZIL          145000\n",
       "INDIA           160000"
      ]
     },
     "execution_count": 7,
     "metadata": {},
     "output_type": "execute_result"
    }
   ],
   "source": [
    "#Market demands\n",
    "demands = pd.read_excel(\"data/demand.xlsx\", index_col=0)\n",
    "demands"
   ]
  },
  {
   "cell_type": "markdown",
   "id": "02367fd6",
   "metadata": {},
   "source": [
    "## Defining Decision Variables"
   ]
  },
  {
   "cell_type": "code",
   "execution_count": 8,
   "id": "68c0fbcf",
   "metadata": {},
   "outputs": [],
   "source": [
    "locations = [\"USA\", \"GERMANY\", \"JAPAN\", \"BRAZIL\", \"INDIA\"]\n",
    "sizes = [\"LOW\", \"HIGH\"]\n",
    "\n",
    "plant_to_size = [(i,s) for s in sizes for i in locations]\n",
    "plant_to_plant = [(i,j) for i in locations for j in locations]"
   ]
  },
  {
   "cell_type": "markdown",
   "id": "e1c4b501",
   "metadata": {},
   "source": [
    "In pulp decision variable indices are defined as dictionaries. Take the plant_to_size dictionary for example"
   ]
  },
  {
   "cell_type": "code",
   "execution_count": 9,
   "id": "1cedbdd2",
   "metadata": {},
   "outputs": [
    {
     "data": {
      "text/plain": [
       "[('USA', 'LOW'),\n",
       " ('GERMANY', 'LOW'),\n",
       " ('JAPAN', 'LOW'),\n",
       " ('BRAZIL', 'LOW'),\n",
       " ('INDIA', 'LOW'),\n",
       " ('USA', 'HIGH'),\n",
       " ('GERMANY', 'HIGH'),\n",
       " ('JAPAN', 'HIGH'),\n",
       " ('BRAZIL', 'HIGH'),\n",
       " ('INDIA', 'HIGH')]"
      ]
     },
     "execution_count": 9,
     "metadata": {},
     "output_type": "execute_result"
    }
   ],
   "source": [
    "plant_to_size"
   ]
  },
  {
   "cell_type": "markdown",
   "id": "2427b9ff",
   "metadata": {},
   "source": [
    "## Model Definition "
   ]
  },
  {
   "cell_type": "code",
   "execution_count": 55,
   "id": "03b7cdba",
   "metadata": {},
   "outputs": [
    {
     "name": "stderr",
     "output_type": "stream",
     "text": [
      "C:\\Users\\vubanc\\AppData\\Local\\anaconda3\\lib\\site-packages\\pulp\\pulp.py:1352: UserWarning: Spaces are not permitted in the name. Converted to '_'\n",
      "  warnings.warn(\"Spaces are not permitted in the name. Converted to '_'\")\n"
     ]
    }
   ],
   "source": [
    "#Model Definition\n",
    "model = LpProblem(\"Production plant location & supply optimization\", LpMinimize)"
   ]
  },
  {
   "cell_type": "markdown",
   "id": "2aff0869",
   "metadata": {},
   "source": [
    "After the model has been defined, we will add decision variables, objective functions and variables, one by one. As of now, the model formulation contains none of these as we can see below:"
   ]
  },
  {
   "cell_type": "code",
   "execution_count": 56,
   "id": "411f10ee",
   "metadata": {},
   "outputs": [
    {
     "data": {
      "text/plain": [
       "Production_plant_location_&_supply_optimization:\n",
       "MINIMIZE\n",
       "None\n",
       "VARIABLES"
      ]
     },
     "execution_count": 56,
     "metadata": {},
     "output_type": "execute_result"
    }
   ],
   "source": [
    "model"
   ]
  },
  {
   "cell_type": "markdown",
   "id": "684f65d0",
   "metadata": {},
   "source": [
    "## Creating Decision Variables "
   ]
  },
  {
   "cell_type": "code",
   "execution_count": 57,
   "id": "e4337c78",
   "metadata": {},
   "outputs": [],
   "source": [
    "x = LpVariable.dicts(\"plant_open\", plant_to_size, cat = \"Binary\")\n",
    "y = LpVariable.dicts(\"units_supplied\", plant_to_plant,  lowBound=0, upBound=None, cat=\"Continuous\")"
   ]
  },
  {
   "cell_type": "markdown",
   "id": "02ca2bcd",
   "metadata": {},
   "source": [
    "The decision variables are dictionaries, where the keys are indices and the values are the optimum values which will be assigned once the model is solved. Right now, the values only have placeholders, which will be replaced by optimum values."
   ]
  },
  {
   "cell_type": "code",
   "execution_count": 58,
   "id": "76b0f426",
   "metadata": {},
   "outputs": [
    {
     "data": {
      "text/plain": [
       "{('USA', 'LOW'): plant_open_('USA',_'LOW'),\n",
       " ('GERMANY', 'LOW'): plant_open_('GERMANY',_'LOW'),\n",
       " ('JAPAN', 'LOW'): plant_open_('JAPAN',_'LOW'),\n",
       " ('BRAZIL', 'LOW'): plant_open_('BRAZIL',_'LOW'),\n",
       " ('INDIA', 'LOW'): plant_open_('INDIA',_'LOW'),\n",
       " ('USA', 'HIGH'): plant_open_('USA',_'HIGH'),\n",
       " ('GERMANY', 'HIGH'): plant_open_('GERMANY',_'HIGH'),\n",
       " ('JAPAN', 'HIGH'): plant_open_('JAPAN',_'HIGH'),\n",
       " ('BRAZIL', 'HIGH'): plant_open_('BRAZIL',_'HIGH'),\n",
       " ('INDIA', 'HIGH'): plant_open_('INDIA',_'HIGH')}"
      ]
     },
     "execution_count": 58,
     "metadata": {},
     "output_type": "execute_result"
    }
   ],
   "source": [
    "x"
   ]
  },
  {
   "cell_type": "markdown",
   "id": "9cb05f2c",
   "metadata": {},
   "source": [
    "##  Defining the Objective Function"
   ]
  },
  {
   "cell_type": "code",
   "execution_count": 59,
   "id": "f3bae4d8",
   "metadata": {},
   "outputs": [],
   "source": [
    "model += (lpSum([x[(i,s)]*fixed_costs.loc[i,s]*1000 for s in sizes for i in locations]) + \n",
    "          lpSum([y[(i,j)]*var_costs.loc[i,j] for i in locations for j in locations]))"
   ]
  },
  {
   "cell_type": "markdown",
   "id": "bf14d032",
   "metadata": {},
   "source": [
    "## Defining the Constraints"
   ]
  },
  {
   "cell_type": "code",
   "execution_count": 60,
   "id": "83def9c5",
   "metadata": {},
   "outputs": [],
   "source": [
    "for j in locations:\n",
    "    model += lpSum([y[(i,j)] for i in locations]) == demands.loc[j,\"Demand\"]\n",
    "    \n",
    "for i in locations:\n",
    "    model += lpSum([y[(i,j)] for j in locations]) <= lpSum([capacities.loc[i,s]*x[(i,s)]*1000 for s in sizes])"
   ]
  },
  {
   "cell_type": "markdown",
   "id": "0aa816b3",
   "metadata": {},
   "source": [
    "## Solving the Model"
   ]
  },
  {
   "cell_type": "markdown",
   "id": "11acbf65",
   "metadata": {},
   "source": [
    "Printing the LpStatus shows that the we found the optimal solution for the model."
   ]
  },
  {
   "cell_type": "code",
   "execution_count": 61,
   "id": "b08ce561",
   "metadata": {},
   "outputs": [
    {
     "name": "stdout",
     "output_type": "stream",
     "text": [
      "Optimal\n"
     ]
    }
   ],
   "source": [
    "model.solve()\n",
    "print(LpStatus[model.status])"
   ]
  },
  {
   "cell_type": "markdown",
   "id": "88838c14",
   "metadata": {},
   "source": [
    "## Optimal Solutions "
   ]
  },
  {
   "cell_type": "markdown",
   "id": "bf326acf",
   "metadata": {},
   "source": [
    "To view the optimal solutions, fiest we create dataframes for each of the decision variables:"
   ]
  },
  {
   "cell_type": "code",
   "execution_count": 62,
   "id": "3b4919ba",
   "metadata": {},
   "outputs": [],
   "source": [
    "x_df = pd.DataFrame(data=[x[plant_to_size[i]].varValue for i in range (len(plant_to_size))], index=[i + \"_\" + s for s in sizes for i in locations], columns=[\"Plant Opening\"])\n",
    "y_df = pd.DataFrame(data=[y[(plant_to_plant[i])].varValue for i in range(len(plant_to_plant))], index = [i + \"_\" + j for i in locations for j in locations], columns = [\"Amount Supplied\"])"
   ]
  },
  {
   "cell_type": "code",
   "execution_count": 63,
   "id": "732e119c",
   "metadata": {},
   "outputs": [
    {
     "name": "stdout",
     "output_type": "stream",
     "text": [
      "Optimal Cost: $65118000\n"
     ]
    }
   ],
   "source": [
    "print(f\"Optimal Cost: ${int(value(model.objective))}\")"
   ]
  },
  {
   "cell_type": "code",
   "execution_count": 64,
   "id": "a728b68f",
   "metadata": {},
   "outputs": [
    {
     "data": {
      "text/html": [
       "<div>\n",
       "<style scoped>\n",
       "    .dataframe tbody tr th:only-of-type {\n",
       "        vertical-align: middle;\n",
       "    }\n",
       "\n",
       "    .dataframe tbody tr th {\n",
       "        vertical-align: top;\n",
       "    }\n",
       "\n",
       "    .dataframe thead th {\n",
       "        text-align: right;\n",
       "    }\n",
       "</style>\n",
       "<table border=\"1\" class=\"dataframe\">\n",
       "  <thead>\n",
       "    <tr style=\"text-align: right;\">\n",
       "      <th></th>\n",
       "      <th>Plant Opening</th>\n",
       "    </tr>\n",
       "  </thead>\n",
       "  <tbody>\n",
       "    <tr>\n",
       "      <th>USA_LOW</th>\n",
       "      <td>0.0</td>\n",
       "    </tr>\n",
       "    <tr>\n",
       "      <th>GERMANY_LOW</th>\n",
       "      <td>0.0</td>\n",
       "    </tr>\n",
       "    <tr>\n",
       "      <th>JAPAN_LOW</th>\n",
       "      <td>0.0</td>\n",
       "    </tr>\n",
       "    <tr>\n",
       "      <th>BRAZIL_LOW</th>\n",
       "      <td>0.0</td>\n",
       "    </tr>\n",
       "    <tr>\n",
       "      <th>INDIA_LOW</th>\n",
       "      <td>1.0</td>\n",
       "    </tr>\n",
       "    <tr>\n",
       "      <th>USA_HIGH</th>\n",
       "      <td>0.0</td>\n",
       "    </tr>\n",
       "    <tr>\n",
       "      <th>GERMANY_HIGH</th>\n",
       "      <td>0.0</td>\n",
       "    </tr>\n",
       "    <tr>\n",
       "      <th>JAPAN_HIGH</th>\n",
       "      <td>1.0</td>\n",
       "    </tr>\n",
       "    <tr>\n",
       "      <th>BRAZIL_HIGH</th>\n",
       "      <td>1.0</td>\n",
       "    </tr>\n",
       "    <tr>\n",
       "      <th>INDIA_HIGH</th>\n",
       "      <td>1.0</td>\n",
       "    </tr>\n",
       "  </tbody>\n",
       "</table>\n",
       "</div>"
      ],
      "text/plain": [
       "              Plant Opening\n",
       "USA_LOW                 0.0\n",
       "GERMANY_LOW             0.0\n",
       "JAPAN_LOW               0.0\n",
       "BRAZIL_LOW              0.0\n",
       "INDIA_LOW               1.0\n",
       "USA_HIGH                0.0\n",
       "GERMANY_HIGH            0.0\n",
       "JAPAN_HIGH              1.0\n",
       "BRAZIL_HIGH             1.0\n",
       "INDIA_HIGH              1.0"
      ]
     },
     "execution_count": 64,
     "metadata": {},
     "output_type": "execute_result"
    }
   ],
   "source": [
    "x_df"
   ]
  },
  {
   "cell_type": "code",
   "execution_count": 65,
   "id": "c4f7cda4",
   "metadata": {},
   "outputs": [
    {
     "data": {
      "text/html": [
       "<div>\n",
       "<style scoped>\n",
       "    .dataframe tbody tr th:only-of-type {\n",
       "        vertical-align: middle;\n",
       "    }\n",
       "\n",
       "    .dataframe tbody tr th {\n",
       "        vertical-align: top;\n",
       "    }\n",
       "\n",
       "    .dataframe thead th {\n",
       "        text-align: right;\n",
       "    }\n",
       "</style>\n",
       "<table border=\"1\" class=\"dataframe\">\n",
       "  <thead>\n",
       "    <tr style=\"text-align: right;\">\n",
       "      <th></th>\n",
       "      <th>Amount Supplied</th>\n",
       "    </tr>\n",
       "  </thead>\n",
       "  <tbody>\n",
       "    <tr>\n",
       "      <th>USA_USA</th>\n",
       "      <td>0.0</td>\n",
       "    </tr>\n",
       "    <tr>\n",
       "      <th>USA_GERMANY</th>\n",
       "      <td>0.0</td>\n",
       "    </tr>\n",
       "    <tr>\n",
       "      <th>USA_JAPAN</th>\n",
       "      <td>0.0</td>\n",
       "    </tr>\n",
       "    <tr>\n",
       "      <th>USA_BRAZIL</th>\n",
       "      <td>0.0</td>\n",
       "    </tr>\n",
       "    <tr>\n",
       "      <th>USA_INDIA</th>\n",
       "      <td>0.0</td>\n",
       "    </tr>\n",
       "    <tr>\n",
       "      <th>GERMANY_USA</th>\n",
       "      <td>0.0</td>\n",
       "    </tr>\n",
       "    <tr>\n",
       "      <th>GERMANY_GERMANY</th>\n",
       "      <td>0.0</td>\n",
       "    </tr>\n",
       "    <tr>\n",
       "      <th>GERMANY_JAPAN</th>\n",
       "      <td>0.0</td>\n",
       "    </tr>\n",
       "    <tr>\n",
       "      <th>GERMANY_BRAZIL</th>\n",
       "      <td>0.0</td>\n",
       "    </tr>\n",
       "    <tr>\n",
       "      <th>GERMANY_INDIA</th>\n",
       "      <td>0.0</td>\n",
       "    </tr>\n",
       "    <tr>\n",
       "      <th>JAPAN_USA</th>\n",
       "      <td>0.0</td>\n",
       "    </tr>\n",
       "    <tr>\n",
       "      <th>JAPAN_GERMANY</th>\n",
       "      <td>0.0</td>\n",
       "    </tr>\n",
       "    <tr>\n",
       "      <th>JAPAN_JAPAN</th>\n",
       "      <td>1500000.0</td>\n",
       "    </tr>\n",
       "    <tr>\n",
       "      <th>JAPAN_BRAZIL</th>\n",
       "      <td>0.0</td>\n",
       "    </tr>\n",
       "    <tr>\n",
       "      <th>JAPAN_INDIA</th>\n",
       "      <td>0.0</td>\n",
       "    </tr>\n",
       "    <tr>\n",
       "      <th>BRAZIL_USA</th>\n",
       "      <td>1250000.0</td>\n",
       "    </tr>\n",
       "    <tr>\n",
       "      <th>BRAZIL_GERMANY</th>\n",
       "      <td>0.0</td>\n",
       "    </tr>\n",
       "    <tr>\n",
       "      <th>BRAZIL_JAPAN</th>\n",
       "      <td>0.0</td>\n",
       "    </tr>\n",
       "    <tr>\n",
       "      <th>BRAZIL_BRAZIL</th>\n",
       "      <td>145000.0</td>\n",
       "    </tr>\n",
       "    <tr>\n",
       "      <th>BRAZIL_INDIA</th>\n",
       "      <td>0.0</td>\n",
       "    </tr>\n",
       "    <tr>\n",
       "      <th>INDIA_USA</th>\n",
       "      <td>1550000.0</td>\n",
       "    </tr>\n",
       "    <tr>\n",
       "      <th>INDIA_GERMANY</th>\n",
       "      <td>90000.0</td>\n",
       "    </tr>\n",
       "    <tr>\n",
       "      <th>INDIA_JAPAN</th>\n",
       "      <td>200000.0</td>\n",
       "    </tr>\n",
       "    <tr>\n",
       "      <th>INDIA_BRAZIL</th>\n",
       "      <td>0.0</td>\n",
       "    </tr>\n",
       "    <tr>\n",
       "      <th>INDIA_INDIA</th>\n",
       "      <td>160000.0</td>\n",
       "    </tr>\n",
       "  </tbody>\n",
       "</table>\n",
       "</div>"
      ],
      "text/plain": [
       "                 Amount Supplied\n",
       "USA_USA                      0.0\n",
       "USA_GERMANY                  0.0\n",
       "USA_JAPAN                    0.0\n",
       "USA_BRAZIL                   0.0\n",
       "USA_INDIA                    0.0\n",
       "GERMANY_USA                  0.0\n",
       "GERMANY_GERMANY              0.0\n",
       "GERMANY_JAPAN                0.0\n",
       "GERMANY_BRAZIL               0.0\n",
       "GERMANY_INDIA                0.0\n",
       "JAPAN_USA                    0.0\n",
       "JAPAN_GERMANY                0.0\n",
       "JAPAN_JAPAN            1500000.0\n",
       "JAPAN_BRAZIL                 0.0\n",
       "JAPAN_INDIA                  0.0\n",
       "BRAZIL_USA             1250000.0\n",
       "BRAZIL_GERMANY               0.0\n",
       "BRAZIL_JAPAN                 0.0\n",
       "BRAZIL_BRAZIL           145000.0\n",
       "BRAZIL_INDIA                 0.0\n",
       "INDIA_USA              1550000.0\n",
       "INDIA_GERMANY            90000.0\n",
       "INDIA_JAPAN             200000.0\n",
       "INDIA_BRAZIL                 0.0\n",
       "INDIA_INDIA             160000.0"
      ]
     },
     "execution_count": 65,
     "metadata": {},
     "output_type": "execute_result"
    }
   ],
   "source": [
    "y_df"
   ]
  }
 ],
 "metadata": {
  "kernelspec": {
   "display_name": "Python 3 (ipykernel)",
   "language": "python",
   "name": "python3"
  },
  "language_info": {
   "codemirror_mode": {
    "name": "ipython",
    "version": 3
   },
   "file_extension": ".py",
   "mimetype": "text/x-python",
   "name": "python",
   "nbconvert_exporter": "python",
   "pygments_lexer": "ipython3",
   "version": "3.10.9"
  }
 },
 "nbformat": 4,
 "nbformat_minor": 5
}
