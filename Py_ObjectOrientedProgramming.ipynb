{
 "cells": [
  {
   "cell_type": "markdown",
   "id": "9e8decbd",
   "metadata": {},
   "source": [
    "# Notebook on Python Object Oriented Programming"
   ]
  },
  {
   "cell_type": "markdown",
   "id": "f9df1ec9",
   "metadata": {},
   "source": [
    "### What is Object Oriented Programming? "
   ]
  },
  {
   "cell_type": "markdown",
   "id": "3a448cd3",
   "metadata": {},
   "source": [
    "Object oriented programming is a way to represent real or hypothetical objects with the help of code."
   ]
  },
  {
   "cell_type": "markdown",
   "id": "c21c7835",
   "metadata": {},
   "source": [
    "### What is a class and how do we create one?"
   ]
  },
  {
   "cell_type": "code",
   "execution_count": 145,
   "id": "40328d42",
   "metadata": {},
   "outputs": [
    {
     "data": {
      "text/plain": [
       "'ferrari'"
      ]
     },
     "execution_count": 145,
     "metadata": {},
     "output_type": "execute_result"
    }
   ],
   "source": [
    "#We write these lines often\n",
    "#But what we don't realize is that we are just creating an instance of the built-in class \"string\"\n",
    "car = str(\"ferrari\") \n",
    "car = \"ferrari\"\n",
    "\n",
    "#The lower method is just a method of the built-in class \"string\" \n",
    "car.lower()"
   ]
  },
  {
   "cell_type": "markdown",
   "id": "8b7379ba",
   "metadata": {},
   "source": [
    "A class is a blueprint for an object. A class contains attributes (defined by the __init__ function) and methods (defined by all the functions except the __init__ inside a class). An object is an instance of a class."
   ]
  },
  {
   "cell_type": "code",
   "execution_count": 146,
   "id": "cbfc59a1",
   "metadata": {},
   "outputs": [],
   "source": [
    "class car:\n",
    "    #The __init__ function defines the \"attributes\". All other functions defines the methods\n",
    "    #Every class must have this function even if it doesn't have any other ones\n",
    "    #You need to use two underscores for the __init__ function which is a constructor\n",
    "    def __init__(self, make, model, year):  \n",
    "        self.make = make  \n",
    "        self.model = model\n",
    "        self.year= year\n",
    "        \n",
    "    def start(self):\n",
    "        return (\"This car is starting\")\n",
    "    def drive(self):\n",
    "        return (\"This car is driving\")\n",
    "    def stop(self):\n",
    "        return (\"This car has stopped\")\n",
    "    def actions(self):\n",
    "        action1 = self.start() #Notice how you've to use the brackets after start otherwise it doesn't give your expected output\n",
    "        action2 = self.drive() #Notice how you've to use the brackets after start otherwise it doesn't give your expected output\n",
    "        action3 = self.stop() #Notice how you've to use the brackets after start otherwise it doesn't give your expected output\n",
    "        return action1, action2, action3\n",
    "    \n",
    "    #We can also use methods to change attributes of an object of this class\n",
    "    #Note that this method won't be applied unless it is called. Putting it in the class just allows us to call it if we want\n",
    "    def update_model(self, updated_model):\n",
    "        self.model = updated_model "
   ]
  },
  {
   "cell_type": "code",
   "execution_count": 147,
   "id": "bf6cc5a5",
   "metadata": {},
   "outputs": [],
   "source": [
    "car = car(\"Ferrari\", \"Enzo\", 2002)"
   ]
  },
  {
   "cell_type": "code",
   "execution_count": 148,
   "id": "159fbfe2",
   "metadata": {},
   "outputs": [
    {
     "data": {
      "text/plain": [
       "2002"
      ]
     },
     "execution_count": 148,
     "metadata": {},
     "output_type": "execute_result"
    }
   ],
   "source": [
    "car.year"
   ]
  },
  {
   "cell_type": "code",
   "execution_count": 149,
   "id": "6e50d072",
   "metadata": {},
   "outputs": [
    {
     "data": {
      "text/plain": [
       "('This car is starting', 'This car is driving', 'This car has stopped')"
      ]
     },
     "execution_count": 149,
     "metadata": {},
     "output_type": "execute_result"
    }
   ],
   "source": [
    "car.actions()"
   ]
  },
  {
   "cell_type": "code",
   "execution_count": 150,
   "id": "41cb8ecb",
   "metadata": {},
   "outputs": [
    {
     "name": "stdout",
     "output_type": "stream",
     "text": [
      "458 Italia\n"
     ]
    }
   ],
   "source": [
    "car.update_model(\"458 Italia\")\n",
    "print(car.model) #Applying the update_model method on the car object has changed its model"
   ]
  },
  {
   "cell_type": "markdown",
   "id": "bef6007f",
   "metadata": {},
   "source": [
    "### What is an inheritance? "
   ]
  },
  {
   "cell_type": "markdown",
   "id": "b39ba1c5",
   "metadata": {},
   "source": [
    "An inheritance is having a **\"parent\" class or a \"superior\" class** define some of the attributes and/or methods of a **\"subordinate\"  or \"inheriting\" class\".** The attributes and methods in the parent class are the default for the subordinate class unless the subordinate class overrides them."
   ]
  },
  {
   "cell_type": "code",
   "execution_count": 173,
   "id": "b7855bac",
   "metadata": {},
   "outputs": [],
   "source": [
    "class vehicle(): #This is the \"parent\" or \"superior\" class\n",
    "    def __init__(self, make, model, year):\n",
    "        self.make = make\n",
    "        self.model = model\n",
    "        self.year = year\n",
    "        \n",
    "    def drive(self):\n",
    "        return (\"This vehicle speed has not been defined\")\n",
    "\n",
    "class car(vehicle): #This is the \"inheriting\" class\n",
    "    def __init__(self, make, model, year, drivetrain, topspeed):\n",
    "        super().__init__(make, model, year) #make, model and year will be inherited from the parent class\n",
    "        self.drivetrain = drivetrain #New attribute specific to the \"car\" subordinate class\n",
    "        self.topspeed = topspeed #New attribute specific to the \"car\" subordinate class\n",
    "    \n",
    "    def drive(self): \n",
    "        return(f\"This car drives at a maximum of {self.topspeed} mph\")  #Overriding the drive function of the parent class\n",
    "class truck(vehicle):\n",
    "    #If the __init__ function is not defined, all the attrributes from the parent class will be inherited\n",
    "    def drive(self): \n",
    "        return(f\"This truck drives at a maximum of {110} mph\")  #Overriding the drive function of the parent class"
   ]
  },
  {
   "cell_type": "code",
   "execution_count": 174,
   "id": "856b7c52",
   "metadata": {},
   "outputs": [],
   "source": [
    "car1 = car(\"Ferrari\", \"Enzo\", 2002, \"RWD\", 217)"
   ]
  },
  {
   "cell_type": "code",
   "execution_count": 175,
   "id": "c2c46a7e",
   "metadata": {},
   "outputs": [
    {
     "name": "stdout",
     "output_type": "stream",
     "text": [
      "Ferrari\n",
      "Enzo\n",
      "2002\n",
      "RWD\n",
      "217\n"
     ]
    },
    {
     "data": {
      "text/plain": [
       "'This car drives at a maximum of 217 mph'"
      ]
     },
     "execution_count": 175,
     "metadata": {},
     "output_type": "execute_result"
    }
   ],
   "source": [
    "#The car object has attributes (drivetrain, topspeed) which are not defined in its parent class\n",
    "print(car1.make)\n",
    "print(car1.model)\n",
    "print(car1.year)\n",
    "print(car1.drivetrain)\n",
    "print(car1.topspeed)\n",
    "\n",
    "car1.drive()"
   ]
  },
  {
   "cell_type": "code",
   "execution_count": 176,
   "id": "a4f53bed",
   "metadata": {},
   "outputs": [],
   "source": [
    "truck1 = truck(\"Tata\", \"Unknown\", 2006)"
   ]
  },
  {
   "cell_type": "code",
   "execution_count": 177,
   "id": "e48b8242",
   "metadata": {},
   "outputs": [
    {
     "name": "stdout",
     "output_type": "stream",
     "text": [
      "Tata\n",
      "Unknown\n",
      "2006\n"
     ]
    }
   ],
   "source": [
    "#Since the __init__ function is not defined for the \"truck\" class \n",
    "#all the attrribute definitions from the parent class will be inherited\n",
    "print(truck1.make)\n",
    "print(truck1.model)\n",
    "print(truck1.year)"
   ]
  }
 ],
 "metadata": {
  "kernelspec": {
   "display_name": "Python 3 (ipykernel)",
   "language": "python",
   "name": "python3"
  },
  "language_info": {
   "codemirror_mode": {
    "name": "ipython",
    "version": 3
   },
   "file_extension": ".py",
   "mimetype": "text/x-python",
   "name": "python",
   "nbconvert_exporter": "python",
   "pygments_lexer": "ipython3",
   "version": "3.9.13"
  }
 },
 "nbformat": 4,
 "nbformat_minor": 5
}
