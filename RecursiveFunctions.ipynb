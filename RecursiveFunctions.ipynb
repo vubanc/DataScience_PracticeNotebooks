{
  "cells": [
    {
      "cell_type": "markdown",
      "metadata": {
        "id": "view-in-github",
        "colab_type": "text"
      },
      "source": [
        "<a href=\"https://colab.research.google.com/github/vubanc/DataScience_PracticeNotebooks/blob/main/RecursiveFunctions.ipynb\" target=\"_parent\"><img src=\"https://colab.research.google.com/assets/colab-badge.svg\" alt=\"Open In Colab\"/></a>"
      ]
    },
    {
      "cell_type": "code",
      "execution_count": null,
      "id": "b2874970",
      "metadata": {
        "id": "b2874970"
      },
      "outputs": [],
      "source": []
    },
    {
      "cell_type": "markdown",
      "id": "7bee85f9",
      "metadata": {
        "id": "7bee85f9"
      },
      "source": [
        "# Notebook on Recursive Functions"
      ]
    },
    {
      "cell_type": "markdown",
      "id": "d4dacc19",
      "metadata": {
        "id": "d4dacc19"
      },
      "source": [
        "A recursive function is a function that calls itself. Let's first define a function without any recursion."
      ]
    },
    {
      "cell_type": "code",
      "execution_count": null,
      "id": "24bb910c",
      "metadata": {
        "id": "24bb910c"
      },
      "outputs": [],
      "source": [
        "def SubtractUptoZero(number):\n",
        "    print(number)\n",
        "    if number==0:\n",
        "        return number\n",
        "    else:\n",
        "        return (number-1)"
      ]
    },
    {
      "cell_type": "markdown",
      "id": "3c5d5225",
      "metadata": {
        "id": "3c5d5225"
      },
      "source": [
        "Notice that the output is 3. This means that the function did not go until zero. And it only printed the number 4."
      ]
    },
    {
      "cell_type": "code",
      "execution_count": null,
      "id": "19a4c619",
      "metadata": {
        "id": "19a4c619",
        "outputId": "a6700172-5d02-4f9c-c715-8ef6c9ac3952"
      },
      "outputs": [
        {
          "name": "stdout",
          "output_type": "stream",
          "text": [
            "4\n"
          ]
        },
        {
          "data": {
            "text/plain": [
              "3"
            ]
          },
          "execution_count": 19,
          "metadata": {},
          "output_type": "execute_result"
        }
      ],
      "source": [
        "SubtractUptoZero(4)"
      ]
    },
    {
      "cell_type": "markdown",
      "id": "fdf98f32",
      "metadata": {
        "id": "fdf98f32"
      },
      "source": [
        "Now, let's make a slight change to this function as follows"
      ]
    },
    {
      "cell_type": "code",
      "execution_count": null,
      "id": "a634d092",
      "metadata": {
        "id": "a634d092"
      },
      "outputs": [],
      "source": [
        "def SubtractUptoZero(number):\n",
        "    print(number)\n",
        "    if number==0:\n",
        "        return number\n",
        "    elif number>0:\n",
        "        return SubtractUptoZero(number-1)\n",
        "        #This function is being called within itself\n",
        "        #Subtracting 1 from number makes sure that after a certain point, number>0 won't be fulfilled"
      ]
    },
    {
      "cell_type": "markdown",
      "id": "7c155aa5",
      "metadata": {
        "id": "7c155aa5"
      },
      "source": [
        "Now, the function goes down until 0.\n",
        "And all the numbers from 4 to 0 are printed. Keep in mind that the function only prints a number when it is called. Since it printed 5 numbers, it was called 5 times."
      ]
    },
    {
      "cell_type": "code",
      "execution_count": null,
      "id": "d82d63f3",
      "metadata": {
        "id": "d82d63f3",
        "outputId": "0a899e16-fbd6-4443-b17c-481439375548"
      },
      "outputs": [
        {
          "name": "stdout",
          "output_type": "stream",
          "text": [
            "4\n",
            "3\n",
            "2\n",
            "1\n",
            "0\n"
          ]
        },
        {
          "data": {
            "text/plain": [
              "0"
            ]
          },
          "execution_count": 25,
          "metadata": {},
          "output_type": "execute_result"
        }
      ],
      "source": [
        "SubtractUptoZero(4)"
      ]
    },
    {
      "cell_type": "markdown",
      "id": "0f4818f3",
      "metadata": {
        "id": "0f4818f3"
      },
      "source": [
        "The condition **\"if number==0\"** is known as **the base case.** This is the condition under which the function stops recursing and returns a value. This means that the function does not return any value until the base case is reached. When it is reached, the value is returned to the previous function calls one by one all the way until the first/top function call. Think of it like a tree."
      ]
    },
    {
      "cell_type": "markdown",
      "id": "b6509c0a",
      "metadata": {
        "id": "b6509c0a"
      },
      "source": [
        "Also notice that the number is being reduced by 1 every time the function is called. This is because, we want to get closer and closer the base case with each function call. Otherwise, the function will run indefinitely."
      ]
    },
    {
      "cell_type": "code",
      "execution_count": null,
      "id": "8b52e8b5",
      "metadata": {
        "id": "8b52e8b5"
      },
      "outputs": [],
      "source": []
    }
  ],
  "metadata": {
    "kernelspec": {
      "display_name": "Python 3 (ipykernel)",
      "language": "python",
      "name": "python3"
    },
    "language_info": {
      "codemirror_mode": {
        "name": "ipython",
        "version": 3
      },
      "file_extension": ".py",
      "mimetype": "text/x-python",
      "name": "python",
      "nbconvert_exporter": "python",
      "pygments_lexer": "ipython3",
      "version": "3.9.13"
    },
    "colab": {
      "provenance": [],
      "include_colab_link": true
    }
  },
  "nbformat": 4,
  "nbformat_minor": 5
}