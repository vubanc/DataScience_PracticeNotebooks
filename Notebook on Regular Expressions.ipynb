{
 "cells": [
  {
   "cell_type": "markdown",
   "id": "d5a4cfe6",
   "metadata": {},
   "source": [
    "# Notebook on Regular Expressions"
   ]
  },
  {
   "cell_type": "markdown",
   "id": "54015188",
   "metadata": {},
   "source": [
    "A regular expression is a sequence of characters that specifies a match pattern in text. It is used in programming to match, search for or replace a sequence of characters in a string."
   ]
  },
  {
   "cell_type": "code",
   "execution_count": 1,
   "id": "89f67c46",
   "metadata": {},
   "outputs": [],
   "source": [
    "import re"
   ]
  },
  {
   "cell_type": "markdown",
   "id": "97203c9c",
   "metadata": {},
   "source": [
    "## Regular Expression Modules "
   ]
  },
  {
   "cell_type": "markdown",
   "id": "48483100",
   "metadata": {},
   "source": [
    "Two commonly used modules in regular expression are:\n",
    "- re.match(): Used to check if a string matches with a certain pattern.\n",
    "- re.sub(): Used to replace a certain part of a string with another string."
   ]
  },
  {
   "cell_type": "markdown",
   "id": "96338aa1",
   "metadata": {},
   "source": [
    "These modules will be utilized in this notebook. However, more can be found at https://docs.python.org/3/library/re.html#functions"
   ]
  },
  {
   "cell_type": "markdown",
   "id": "a8ebbbfe",
   "metadata": {},
   "source": [
    "## Character Sets and Ranges"
   ]
  },
  {
   "cell_type": "markdown",
   "id": "7b13b2b3",
   "metadata": {},
   "source": [
    "A character set is simply a set of characters. In regex, we are often trying to find if the first character of a string matches with a character from our predefined character set (e.g., **\"[a-z]\"**) within the pattern. Our predefined character sets are represented using square brackets (**\"[abc]\"**). In the following cell, the string \"name\" represents a string and we are trying to match it with a character set **\"[a-z]\"**. \n",
    "\n",
    "**Please note that in the following example, regex only matches the first letter of the string with our predefined character set. Hence, if we have a string that begins with an alphabet (within a to z) but is followed by numerical digits, we will still get a match.**"
   ]
  },
  {
   "cell_type": "code",
   "execution_count": 43,
   "id": "23d585f7",
   "metadata": {},
   "outputs": [
    {
     "name": "stdout",
     "output_type": "stream",
     "text": [
      "True\n"
     ]
    }
   ],
   "source": [
    "if re.match(\"[a-z]\", \"n1234\"):\n",
    "    print(True)\n",
    "else:\n",
    "    print(False)"
   ]
  },
  {
   "cell_type": "markdown",
   "id": "795ccb40",
   "metadata": {},
   "source": [
    "There is a difference between putting characters in character sets (e.g., **\"[abc]\"**) and putting them in an isolated manner inside the inverted commas (e.g., **\"abc\"**). Putting them in acharacter set will tell regex to match any character (a or b or c) from the set with the first character of our string. On the other hand, putting the characters in isolation (e.g., **\"abc\"**) will tell regex to check if the string begins with **\"abc\".** \n",
    "\n",
    "Look at the following examples to get a better understanding:"
   ]
  },
  {
   "cell_type": "code",
   "execution_count": 52,
   "id": "04a2bae2",
   "metadata": {},
   "outputs": [
    {
     "data": {
      "text/plain": [
       "True"
      ]
     },
     "execution_count": 52,
     "metadata": {},
     "output_type": "execute_result"
    }
   ],
   "source": [
    "bool(re.match(\"[a-z]\", \"cure\"))"
   ]
  },
  {
   "cell_type": "code",
   "execution_count": 110,
   "id": "f3c419a9",
   "metadata": {},
   "outputs": [
    {
     "data": {
      "text/plain": [
       "False"
      ]
     },
     "execution_count": 110,
     "metadata": {},
     "output_type": "execute_result"
    }
   ],
   "source": [
    "bool(re.match(\"ure\", \"cure\"))"
   ]
  },
  {
   "cell_type": "markdown",
   "id": "05ca7a20",
   "metadata": {},
   "source": [
    "## Repeating "
   ]
  },
  {
   "cell_type": "markdown",
   "id": "6bf3331c",
   "metadata": {},
   "source": [
    "Instead of matching only the first character of the string, if we want to match more than one characters at the beginning of the string, we can use repeating in regex to do that. In the following cell, a number from 0-9 is being repeated 10 times. The following code returns True if it matches an instance of a 10-digit number from the beginning of the string. \n",
    "\n",
    "**Please note that If the 10 digit number is followed by something else (e.g., a character or more numbers), it will still return True. Because regex finds a 10 digit number at the beginning of the string.**"
   ]
  },
  {
   "cell_type": "code",
   "execution_count": 42,
   "id": "54f3a688",
   "metadata": {},
   "outputs": [
    {
     "name": "stdout",
     "output_type": "stream",
     "text": [
      "True\n"
     ]
    }
   ],
   "source": [
    "if re.match(\"[0-9]{10}\", \"4783011535abc\"):\n",
    "    print(True)\n",
    "else:\n",
    "    print(False)"
   ]
  },
  {
   "cell_type": "markdown",
   "id": "e97b08bf",
   "metadata": {},
   "source": [
    "The above expression is the same as writing the character set 10 times. It checks the first 10 characters (not just the first) of the string to see if they are all digits between 0 to 9."
   ]
  },
  {
   "cell_type": "code",
   "execution_count": 54,
   "id": "9a4f0127",
   "metadata": {},
   "outputs": [
    {
     "data": {
      "text/plain": [
       "True"
      ]
     },
     "execution_count": 54,
     "metadata": {},
     "output_type": "execute_result"
    }
   ],
   "source": [
    "bool(re.match(\"[0-9][0-9][0-9][0-9][0-9][0-9][0-9][0-9][0-9][0-9]\", \"4783011535abc\"))"
   ]
  },
  {
   "cell_type": "markdown",
   "id": "8d000758",
   "metadata": {},
   "source": [
    "We can also specify a range for the repetition. For example, in the following cell, we are trying to check if the first 5 to 8 characters of the string are alphabets between a to z. This means that even if the string is 13 characters long, with the first 5 to 8 characters being alphabets it will still return true."
   ]
  },
  {
   "cell_type": "code",
   "execution_count": 55,
   "id": "b13d4fe4",
   "metadata": {},
   "outputs": [
    {
     "name": "stdout",
     "output_type": "stream",
     "text": [
      "True\n"
     ]
    }
   ],
   "source": [
    "if re.match(\"[A-Za-z]{5,8}\", \"Laptop12345\"):\n",
    "    print(True)\n",
    "else:\n",
    "    print(False)"
   ]
  },
  {
   "cell_type": "markdown",
   "id": "d3ff83b5",
   "metadata": {},
   "source": [
    "We can also specify a lower limit of repetitions and set the upper limit to infinity like the following example."
   ]
  },
  {
   "cell_type": "code",
   "execution_count": 50,
   "id": "84e9ea95",
   "metadata": {},
   "outputs": [
    {
     "name": "stdout",
     "output_type": "stream",
     "text": [
      "True\n"
     ]
    }
   ],
   "source": [
    "if re.match(\"[A-Za-z]{5,}\", \"Scandinavia\"):\n",
    "    print(True)\n",
    "else:\n",
    "    print(False)"
   ]
  },
  {
   "cell_type": "markdown",
   "id": "8992fbbc",
   "metadata": {},
   "source": [
    "To set a repeat range of 1 or higher number of alphabets, we can use the epxression **\"[A-Za-z]{1,}\"** or we can use a simpler version of it like **\"[A-Za-z]+\".**"
   ]
  },
  {
   "cell_type": "code",
   "execution_count": 61,
   "id": "1ed35221",
   "metadata": {},
   "outputs": [
    {
     "data": {
      "text/plain": [
       "True"
      ]
     },
     "execution_count": 61,
     "metadata": {},
     "output_type": "execute_result"
    }
   ],
   "source": [
    "bool(re.match(\"[A-Za-z]+\", \"a1111\"))"
   ]
  },
  {
   "cell_type": "markdown",
   "id": "9546f95e",
   "metadata": {},
   "source": [
    "To set a repeat range of 0 or higher number of alphabets, we can use the epxression **\"[A-Za-z]{0,}\"** or we can use a simpler version of it like **\"[A-Za-z]*\".**"
   ]
  },
  {
   "cell_type": "code",
   "execution_count": 82,
   "id": "524e7326",
   "metadata": {},
   "outputs": [
    {
     "data": {
      "text/plain": [
       "True"
      ]
     },
     "execution_count": 82,
     "metadata": {},
     "output_type": "execute_result"
    }
   ],
   "source": [
    "bool(re.match(\"[A-Za-z]*\", \"\"))"
   ]
  },
  {
   "cell_type": "markdown",
   "id": "cf5f1b36",
   "metadata": {},
   "source": [
    "## Escape Characters"
   ]
  },
  {
   "cell_type": "markdown",
   "id": "5becdd74",
   "metadata": {},
   "source": [
    "Escape Characters/Meta characters are special characters that typically start with backslashes (e.g., \\w, \\s), which are used to represent a specific type of characters in regex.\n",
    "\n",
    "- \\w represents a word character: A-Z, a-z, 0-9, _\n",
    "- \\s represents a whitespace character\n",
    "- \\d represents a digits character\n",
    "- and more at https://pynative.com/python-regex-special-sequences-and-character-classes/\n",
    "\n",
    "The characters w,s and d are regular alphabetical characters but the backslash preceding indicates that these are metacharacters and not interpreted in their literal sense i.e., as alphabets."
   ]
  },
  {
   "cell_type": "markdown",
   "id": "fee3ea34",
   "metadata": {},
   "source": [
    "In the following example, we are trying to match a string to a pattern containing **ONE** word character, followed by **ONE** space, followed by **ONE** digit. Notice that only one character of each type if accepted. Replacing the first character of the string with two alphabets won't produce a match because of how the pattern is defined."
   ]
  },
  {
   "cell_type": "code",
   "execution_count": 80,
   "id": "2632a731",
   "metadata": {},
   "outputs": [
    {
     "name": "stdout",
     "output_type": "stream",
     "text": [
      "True\n"
     ]
    }
   ],
   "source": [
    "if re.match(\"\\w\\s\\d\", \"n 7\"):\n",
    "    print(True)\n",
    "else:\n",
    "    print(False)"
   ]
  },
  {
   "cell_type": "markdown",
   "id": "1dd3467a",
   "metadata": {},
   "source": [
    "## Special Characters "
   ]
  },
  {
   "cell_type": "markdown",
   "id": "5fe72d63",
   "metadata": {},
   "source": [
    "We have special characters that denote the number of times we are intending to repeat a character. Take the following special characters for example:\n",
    "- **?** indicates that the character preceding it can appear 0 or 1 time in a pattern, making it optional.\n",
    "- **.** indicates any character whatsoever.\n",
    "- **\\*** indicates that the character following it can appear 0 or more times in a pattern.\n",
    "- **+** indicates that the character preceding it can appear 1 or more times in a pattern.\n",
    "- **^** indicates that we are asking it to match at the start of a string.\n",
    "- **$** indicates that we are asking it to match at the end of a string.\n",
    "\n",
    "If we want to match a literal \"+\" or a literal \"^\", we need to place a \"\\\\\" behind them. Backslash just makes a character escape its normal behavior."
   ]
  },
  {
   "cell_type": "markdown",
   "id": "eee4a976",
   "metadata": {},
   "source": [
    "In the following example, the pattern **[a-z]*\\d+** indicates that a set of characters a to z is allowed to appear 0 or more times, followed by one or more digits."
   ]
  },
  {
   "cell_type": "code",
   "execution_count": 83,
   "id": "a59f151c",
   "metadata": {},
   "outputs": [
    {
     "name": "stdout",
     "output_type": "stream",
     "text": [
      "True\n"
     ]
    }
   ],
   "source": [
    "if re.match(\"[a-z]*\\d\", \"11111111111111\"):\n",
    "    print(True)\n",
    "else:\n",
    "    print(False)"
   ]
  },
  {
   "cell_type": "markdown",
   "id": "752d6d9c",
   "metadata": {},
   "source": [
    "The following regular expression is supposed to replace any real number (including numbers with decimal points) with a the string \"unknown\"."
   ]
  },
  {
   "cell_type": "code",
   "execution_count": 85,
   "id": "1643af7f",
   "metadata": {},
   "outputs": [
    {
     "data": {
      "text/plain": [
       "'His grade in the exam was '"
      ]
     },
     "execution_count": 85,
     "metadata": {},
     "output_type": "execute_result"
    }
   ],
   "source": [
    "re.sub(\"[1-9]+\\.?[1-9]+\", \"\", \"His grade in the exam was 11.22\")"
   ]
  },
  {
   "cell_type": "markdown",
   "id": "a02b8dc8",
   "metadata": {},
   "source": [
    "## Starting and Ending Patterns "
   ]
  },
  {
   "cell_type": "markdown",
   "id": "435091bd",
   "metadata": {},
   "source": [
    "We have seen how to use repeating patterns in regex above. However, there is a problem with it. If we use the pattern [a-z]{5} to match a 5-digit number, we will get a match if the string being tested begins with a 5-digit number. We get a match even if the number if longer than 5 digits or the 5-digit number is followed by alphabets.\n",
    "\n",
    "If we want to match a number of 5 digits and 5 digits only, we have to do things differently. We have to indicate that we want to match the pattern within the beginning and end of the string, meaning we do not match if it starts with a 5-digit number and goes on or if it starts with some random characters and ends with a 5 digit number."
   ]
  },
  {
   "cell_type": "markdown",
   "id": "f71292c8",
   "metadata": {},
   "source": [
    "Replacing the following string with \"abc12345\" or \"12345abc\" or \"1234567\" will return False. The characters **^** and **$** denote the starting and ending of the pattern respectively."
   ]
  },
  {
   "cell_type": "code",
   "execution_count": 112,
   "id": "d1e47bd3",
   "metadata": {},
   "outputs": [
    {
     "name": "stdout",
     "output_type": "stream",
     "text": [
      "True\n"
     ]
    }
   ],
   "source": [
    "if re.match(\"^[1-9]{5}$\", \"24549\"):\n",
    "    print(True)\n",
    "else:\n",
    "    print(False)"
   ]
  },
  {
   "cell_type": "markdown",
   "id": "271b2796",
   "metadata": {},
   "source": [
    "## Alternate Characters "
   ]
  },
  {
   "cell_type": "markdown",
   "id": "1f92f634",
   "metadata": {},
   "source": [
    "Putting something inside parenthesis allows regular expression to evaluate it separately. Whatever is put inside the parentheses is called a group in regular expression."
   ]
  },
  {
   "cell_type": "markdown",
   "id": "8f3caf50",
   "metadata": {},
   "source": [
    "The two following cells are supposed to replace a link to a website with a literal string \"link\". This can be accomplished in two different ways as shown in the following two cells. \n",
    "\n",
    "**Note that putting something in first brackets make regex treat it as a separate entity, meaning that any special character following the entity applies to everything inside the bracket collectively.**"
   ]
  },
  {
   "cell_type": "code",
   "execution_count": 70,
   "id": "75ac3452",
   "metadata": {},
   "outputs": [
    {
     "data": {
      "text/plain": [
       "'link'"
      ]
     },
     "execution_count": 70,
     "metadata": {},
     "output_type": "execute_result"
    }
   ],
   "source": [
    "website = \"https://www.youtube.com/watch?v=VRBpeqNamrI\"\n",
    "re.sub(\"(https:)\\S*\", \"link\", website)"
   ]
  },
  {
   "cell_type": "code",
   "execution_count": 132,
   "id": "6d5edbbe",
   "metadata": {},
   "outputs": [
    {
     "data": {
      "text/plain": [
       "'link'"
      ]
     },
     "execution_count": 132,
     "metadata": {},
     "output_type": "execute_result"
    }
   ],
   "source": [
    "website = \"https://www.youtube.com/watch?v=VRBpeqNamrI\"\n",
    "re.sub(\"(https://)?(www.)?[\\w]+\\.(com).*\", \"link\", website)"
   ]
  }
 ],
 "metadata": {
  "kernelspec": {
   "display_name": "Python 3 (ipykernel)",
   "language": "python",
   "name": "python3"
  },
  "language_info": {
   "codemirror_mode": {
    "name": "ipython",
    "version": 3
   },
   "file_extension": ".py",
   "mimetype": "text/x-python",
   "name": "python",
   "nbconvert_exporter": "python",
   "pygments_lexer": "ipython3",
   "version": "3.9.12"
  }
 },
 "nbformat": 4,
 "nbformat_minor": 5
}
