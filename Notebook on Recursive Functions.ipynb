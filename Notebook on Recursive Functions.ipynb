{
 "cells": [
  {
   "cell_type": "code",
   "execution_count": null,
   "id": "b2874970",
   "metadata": {},
   "outputs": [],
   "source": []
  },
  {
   "cell_type": "markdown",
   "id": "7bee85f9",
   "metadata": {},
   "source": [
    "# Notebook on Recursive Functions "
   ]
  },
  {
   "cell_type": "markdown",
   "id": "d4dacc19",
   "metadata": {},
   "source": [
    "A recursive function is a function that calls itself. Let's first define a function without any recursion."
   ]
  },
  {
   "cell_type": "code",
   "execution_count": 18,
   "id": "24bb910c",
   "metadata": {},
   "outputs": [],
   "source": [
    "def SubtractUptoZero(number):\n",
    "    print(number)\n",
    "    if number==0:\n",
    "        return number\n",
    "    else:\n",
    "        return (number-1)"
   ]
  },
  {
   "cell_type": "markdown",
   "id": "3c5d5225",
   "metadata": {},
   "source": [
    "Notice that the output is 3. This means that the function did not go until zero. And it only printed the number 4."
   ]
  },
  {
   "cell_type": "code",
   "execution_count": 19,
   "id": "19a4c619",
   "metadata": {},
   "outputs": [
    {
     "name": "stdout",
     "output_type": "stream",
     "text": [
      "4\n"
     ]
    },
    {
     "data": {
      "text/plain": [
       "3"
      ]
     },
     "execution_count": 19,
     "metadata": {},
     "output_type": "execute_result"
    }
   ],
   "source": [
    "SubtractUptoZero(4)"
   ]
  },
  {
   "cell_type": "markdown",
   "id": "fdf98f32",
   "metadata": {},
   "source": [
    "Now, let's make a slight change to this function as follows"
   ]
  },
  {
   "cell_type": "code",
   "execution_count": 24,
   "id": "a634d092",
   "metadata": {},
   "outputs": [],
   "source": [
    "def SubtractUptoZero(number):\n",
    "    print(number)\n",
    "    if number==0:\n",
    "        return number\n",
    "    elif number>0: \n",
    "        return SubtractUptoZero(number-1) \n",
    "        #This function is being called within itself \n",
    "        #Subtracting 1 from number makes sure that after a certain point, number>0 won't be fulfilled"
   ]
  },
  {
   "cell_type": "markdown",
   "id": "7c155aa5",
   "metadata": {},
   "source": [
    "Now, the function goes down until 0. \n",
    "And all the numbers from 4 to 0 are printed. Keep in mind that the function only prints a number when it is called. Since it printed 5 numbers, it was called 5 times."
   ]
  },
  {
   "cell_type": "code",
   "execution_count": 25,
   "id": "d82d63f3",
   "metadata": {},
   "outputs": [
    {
     "name": "stdout",
     "output_type": "stream",
     "text": [
      "4\n",
      "3\n",
      "2\n",
      "1\n",
      "0\n"
     ]
    },
    {
     "data": {
      "text/plain": [
       "0"
      ]
     },
     "execution_count": 25,
     "metadata": {},
     "output_type": "execute_result"
    }
   ],
   "source": [
    "SubtractUptoZero(4)"
   ]
  },
  {
   "cell_type": "markdown",
   "id": "0f4818f3",
   "metadata": {},
   "source": [
    "The condition **\"if number==0\"** is known as **the base case.** This is the condition under which the function stops recursing and returns a value. This means that the function does not return any value until the base case is reached. When it is reached, the value is returned to the previous function calls one by one all the way until the first/top function call. Think of it like a tree."
   ]
  },
  {
   "cell_type": "markdown",
   "id": "b6509c0a",
   "metadata": {},
   "source": [
    "Also notice that the number is being reduced by 1 every time the function is called. This is because, we want to get closer and closer the base case with each function call. Otherwise, the function will run indefinitely."
   ]
  },
  {
   "cell_type": "code",
   "execution_count": null,
   "id": "8b52e8b5",
   "metadata": {},
   "outputs": [],
   "source": []
  }
 ],
 "metadata": {
  "kernelspec": {
   "display_name": "Python 3 (ipykernel)",
   "language": "python",
   "name": "python3"
  },
  "language_info": {
   "codemirror_mode": {
    "name": "ipython",
    "version": 3
   },
   "file_extension": ".py",
   "mimetype": "text/x-python",
   "name": "python",
   "nbconvert_exporter": "python",
   "pygments_lexer": "ipython3",
   "version": "3.9.13"
  }
 },
 "nbformat": 4,
 "nbformat_minor": 5
}
